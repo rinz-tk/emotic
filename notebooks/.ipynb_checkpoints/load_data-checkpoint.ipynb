{
 "cells": [
  {
   "cell_type": "code",
   "execution_count": 2,
   "id": "8fe59066-6da8-4a15-9a3a-e6adc09272a2",
   "metadata": {},
   "outputs": [],
   "source": [
    "import numpy as np\n",
    "import scipy.io as scio\n",
    "\n",
    "import torch\n",
    "from torch.utils.data import Dataset\n",
    "from torchvision.io import read_image, write_jpeg\n",
    "import torchvision.transforms as transforms\n",
    "from torchvision.transforms.functional import crop"
   ]
  },
  {
   "cell_type": "code",
   "execution_count": 15,
   "id": "f3772494-de9a-4ac0-9dc3-dd0952099811",
   "metadata": {},
   "outputs": [],
   "source": [
    "class EmoticDataset(Dataset):\n",
    "    def __init__(self, anns_dir, img_dir):\n",
    "        anns = scio.loadmat(anns_dir)[\"train\"]\n",
    "        self.anns = np.fromiter(filter(lambda x: x[\"folder\"].item() != \"framesdb/images\", iter(anns[0])), dtype=anns.dtype)\n",
    "        self.img_dir = img_dir\n",
    "\n",
    "    def __len__(self):\n",
    "        self.anns.size\n",
    "\n",
    "    def __getitem__(self, idx):\n",
    "        ann = self.anns[idx]\n",
    "\n",
    "        img_loc = \"../data/cvpr_emotic/\" + ann[\"folder\"].item() + '/' + ann[\"filename\"].item()\n",
    "        context_img = read_image(img_loc)\n",
    "        \n",
    "        bbox =  ann[\"person\"][\"body_bbox\"].item()[0]\n",
    "        subject_img = crop(image, bbox[1], bbox[0], bbox[3] - bbox[1], bbox[2] - bbox[0])\n",
    "\n",
    "        return subject_img, context_img"
   ]
  },
  {
   "cell_type": "code",
   "execution_count": 4,
   "id": "2f56444d-e2ab-4c99-baf1-b5e91505b1be",
   "metadata": {},
   "outputs": [],
   "source": [
    "anns = scio.loadmat('../data/Annotations/Annotations.mat')\n",
    "anns = anns[\"train\"]\n",
    "anns = np.fromiter(filter(lambda x: x[\"folder\"].item() != \"framesdb/images\", iter(anns[0])), dtype=anns.dtype)"
   ]
  },
  {
   "cell_type": "code",
   "execution_count": 136,
   "id": "a65310b8-8911-4bd0-9437-05f35add203d",
   "metadata": {},
   "outputs": [
    {
     "data": {
      "text/plain": [
       "{'ade20k/images', 'emodb_small/images', 'mscoco/images'}"
      ]
     },
     "execution_count": 136,
     "metadata": {},
     "output_type": "execute_result"
    }
   ],
   "source": [
    "set(map(lambda x: x[\"folder\"].item(), iter(anns)))"
   ]
  },
  {
   "cell_type": "code",
   "execution_count": 220,
   "id": "0610a9a6-fbbc-40b8-8e8e-5b46c7be4a26",
   "metadata": {},
   "outputs": [
    {
     "name": "stdout",
     "output_type": "stream",
     "text": [
      "[5616 7360]\n",
      "[112 150]\n",
      "[472.44436702 622.68873403]\n"
     ]
    }
   ],
   "source": [
    "sizes = np.array(list(map(lambda x: [x[\"image_size\"][\"n_row\"].item().item(), x[\"image_size\"][\"n_col\"].item().item()], iter(anns))))\n",
    "print(np.max(sizes, axis=0))\n",
    "print(np.min(sizes, axis=0))\n",
    "print(np.average(sizes, axis=0))"
   ]
  },
  {
   "cell_type": "code",
   "execution_count": 221,
   "id": "2138682d-012a-46fd-ad34-f2651d4e9b63",
   "metadata": {},
   "outputs": [
    {
     "name": "stdout",
     "output_type": "stream",
     "text": [
      "[3697 4138]\n",
      "[27 44]\n",
      "[212.63902439 307.7416957 ]\n"
     ]
    }
   ],
   "source": [
    "boxes = [ann[\"person\"][\"body_bbox\"][0][0][0] for ann in anns]\n",
    "box_sizes = np.array([[b[2] - b[0], b[3] - b[1]] for b in boxes], dtype=np.uint16)\n",
    "print(np.max(box_sizes, axis=0))\n",
    "print(np.min(box_sizes, axis=0))\n",
    "print(np.average(box_sizes, axis=0))"
   ]
  },
  {
   "cell_type": "code",
   "execution_count": 169,
   "id": "5745f1a2-193a-4fa0-8294-0304903ff089",
   "metadata": {},
   "outputs": [
    {
     "data": {
      "text/plain": [
       "12915"
      ]
     },
     "execution_count": 169,
     "metadata": {},
     "output_type": "execute_result"
    }
   ],
   "source": [
    "anns.size"
   ]
  },
  {
   "cell_type": "code",
   "execution_count": 5,
   "id": "d54130bc-8219-457a-b4de-cf63e94988a4",
   "metadata": {},
   "outputs": [],
   "source": [
    "idx = 1352\n",
    "ann = anns[idx]"
   ]
  },
  {
   "cell_type": "code",
   "execution_count": 6,
   "id": "8b3a6e18-6a15-4a72-b77d-41487b53ba7a",
   "metadata": {},
   "outputs": [
    {
     "data": {
      "text/plain": [
       "dtype([('filename', 'O'), ('folder', 'O'), ('image_size', 'O'), ('original_database', 'O'), ('person', 'O')])"
      ]
     },
     "execution_count": 6,
     "metadata": {},
     "output_type": "execute_result"
    }
   ],
   "source": [
    "ann.dtype"
   ]
  },
  {
   "cell_type": "code",
   "execution_count": 7,
   "id": "30f788a9-d7d1-43ae-8ff0-0cd80f63cded",
   "metadata": {},
   "outputs": [
    {
     "data": {
      "text/plain": [
       "'mscoco/images/COCO_train2014_000000015394.jpg'"
      ]
     },
     "execution_count": 7,
     "metadata": {},
     "output_type": "execute_result"
    }
   ],
   "source": [
    "ann[\"folder\"].item() + '/' + ann[\"filename\"].item()"
   ]
  },
  {
   "cell_type": "code",
   "execution_count": 8,
   "id": "55cfa3a3-75eb-46af-90da-068413b6269f",
   "metadata": {},
   "outputs": [],
   "source": [
    "image = read_image(\"../data/cvpr_emotic/\" + ann[\"folder\"].item() + '/' + ann[\"filename\"].item())"
   ]
  },
  {
   "cell_type": "code",
   "execution_count": 9,
   "id": "a9bfbe31-4611-4fce-b090-053556d28d19",
   "metadata": {},
   "outputs": [
    {
     "data": {
      "text/plain": [
       "torch.Size([3, 480, 640])"
      ]
     },
     "execution_count": 9,
     "metadata": {},
     "output_type": "execute_result"
    }
   ],
   "source": [
    "image.shape"
   ]
  },
  {
   "cell_type": "code",
   "execution_count": 275,
   "id": "11598e8d-15ab-462a-8a5e-71ad4656a45f",
   "metadata": {},
   "outputs": [],
   "source": [
    "bbox =  ann[\"person\"][\"body_bbox\"].item()[0]\n",
    "cropped = crop(image, bbox[1], bbox[0], bbox[3] - bbox[1], bbox[2] - bbox[0])\n",
    "write_jpeg(cropped, \"../data/try_crop/cropped.jpg\")"
   ]
  },
  {
   "cell_type": "code",
   "execution_count": 258,
   "id": "728d926a-fd11-40ca-b690-784050a0c503",
   "metadata": {},
   "outputs": [
    {
     "data": {
      "text/plain": [
       "[427, 640]"
      ]
     },
     "execution_count": 258,
     "metadata": {},
     "output_type": "execute_result"
    }
   ],
   "source": [
    "[ann[\"image_size\"][\"n_row\"].item().item(), ann[\"image_size\"][\"n_col\"].item().item()]"
   ]
  },
  {
   "cell_type": "code",
   "execution_count": 226,
   "id": "4481167a-2f02-434f-aa7e-1018b2923b67",
   "metadata": {},
   "outputs": [
    {
     "data": {
      "text/plain": [
       "'mscoco'"
      ]
     },
     "execution_count": 226,
     "metadata": {},
     "output_type": "execute_result"
    }
   ],
   "source": [
    "ann[\"original_database\"][\"name\"].item().item()"
   ]
  },
  {
   "cell_type": "code",
   "execution_count": 227,
   "id": "a6f0216e-aac2-42cd-b0ac-2a4c4c18d04e",
   "metadata": {},
   "outputs": [
    {
     "data": {
      "text/plain": [
       "array([[array([[(array([[481931]], dtype=int32), array([[473666]], dtype=int32))]],\n",
       "              dtype=[('image_id', 'O'), ('annotations_id', 'O')])                  ]],\n",
       "      dtype=object)"
      ]
     },
     "execution_count": 227,
     "metadata": {},
     "output_type": "execute_result"
    }
   ],
   "source": [
    "ann[\"original_database\"][\"info\"]"
   ]
  },
  {
   "cell_type": "code",
   "execution_count": 228,
   "id": "a1018ed9-ed8e-48bc-96ff-46d91811aca4",
   "metadata": {},
   "outputs": [
    {
     "data": {
      "text/plain": [
       "dtype([('body_bbox', 'O'), ('annotations_categories', 'O'), ('annotations_continuous', 'O'), ('gender', 'O'), ('age', 'O')])"
      ]
     },
     "execution_count": 228,
     "metadata": {},
     "output_type": "execute_result"
    }
   ],
   "source": [
    "ann[\"person\"].dtype"
   ]
  },
  {
   "cell_type": "code",
   "execution_count": 260,
   "id": "1e6184fe-3eb2-4315-9170-5c971fe3d275",
   "metadata": {},
   "outputs": [
    {
     "data": {
      "text/plain": [
       "array([238, 113, 374, 335], dtype=uint16)"
      ]
     },
     "execution_count": 260,
     "metadata": {},
     "output_type": "execute_result"
    }
   ],
   "source": [
    "ann[\"person\"][\"body_bbox\"].item()[0]"
   ]
  },
  {
   "cell_type": "code",
   "execution_count": 230,
   "id": "c7baf144-7364-4316-a0d5-8b82f7a31851",
   "metadata": {},
   "outputs": [
    {
     "data": {
      "text/plain": [
       "array([[array([[(array([[array(['Engagement'], dtype='<U10')]], dtype=object),)]],\n",
       "              dtype=[('categories', 'O')])                                        ]],\n",
       "      dtype=object)"
      ]
     },
     "execution_count": 230,
     "metadata": {},
     "output_type": "execute_result"
    }
   ],
   "source": [
    "ann[\"person\"][\"annotations_categories\"]"
   ]
  },
  {
   "cell_type": "code",
   "execution_count": 231,
   "id": "29ad40d8-76bd-494d-aabe-578adcb80f98",
   "metadata": {},
   "outputs": [
    {
     "data": {
      "text/plain": [
       "array([[array([[(array([[7]], dtype=uint8), array([[4]], dtype=uint8), array([[6]], dtype=uint8))]],\n",
       "              dtype=[('valence', 'O'), ('arousal', 'O'), ('dominance', 'O')])                       ]],\n",
       "      dtype=object)"
      ]
     },
     "execution_count": 231,
     "metadata": {},
     "output_type": "execute_result"
    }
   ],
   "source": [
    "ann[\"person\"][\"annotations_continuous\"]"
   ]
  },
  {
   "cell_type": "code",
   "execution_count": 234,
   "id": "148e5161-bd00-46a4-8db2-5b97e19150cb",
   "metadata": {},
   "outputs": [
    {
     "data": {
      "text/plain": [
       "array([[array(['Male'], dtype='<U4')]], dtype=object)"
      ]
     },
     "execution_count": 234,
     "metadata": {},
     "output_type": "execute_result"
    }
   ],
   "source": [
    "ann[\"person\"][\"gender\"]"
   ]
  },
  {
   "cell_type": "code",
   "execution_count": 235,
   "id": "ffe4f159-6356-4da0-a084-5f733d926e8f",
   "metadata": {},
   "outputs": [
    {
     "data": {
      "text/plain": [
       "array([[array(['Adult'], dtype='<U5')]], dtype=object)"
      ]
     },
     "execution_count": 235,
     "metadata": {},
     "output_type": "execute_result"
    }
   ],
   "source": [
    "ann[\"person\"][\"age\"]"
   ]
  }
 ],
 "metadata": {
  "kernelspec": {
   "display_name": "Python 3 (ipykernel)",
   "language": "python",
   "name": "python3"
  },
  "language_info": {
   "codemirror_mode": {
    "name": "ipython",
    "version": 3
   },
   "file_extension": ".py",
   "mimetype": "text/x-python",
   "name": "python",
   "nbconvert_exporter": "python",
   "pygments_lexer": "ipython3",
   "version": "3.10.12"
  }
 },
 "nbformat": 4,
 "nbformat_minor": 5
}
